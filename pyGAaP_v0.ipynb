{
 "cells": [
  {
   "cell_type": "code",
   "execution_count": 2,
   "metadata": {
    "collapsed": false
   },
   "outputs": [],
   "source": [
    "from astropy.io import fits\n",
    "from astropy.stats import sigma_clip\n",
    "import matplotlib.pyplot as plt\n",
    "from mpl_toolkits.mplot3d import Axes3D\n",
    "from scipy.optimize import fmin\n",
    "import numpy as np\n",
    "import math\n",
    "import hermite\n",
    "import fitstars\n",
    "import Gkernel\n",
    "import utils\n",
    "import copy\n",
    "import os\n",
    "os.environ['MKL_NUM_THREADS'] = '12'\n",
    "\n",
    "#import imp\n",
    "#imp.reload(hermite)"
   ]
  },
  {
   "cell_type": "markdown",
   "metadata": {},
   "source": [
    "## Reading data"
   ]
  },
  {
   "cell_type": "markdown",
   "metadata": {},
   "source": [
    "#### Read data image"
   ]
  },
  {
   "cell_type": "code",
   "execution_count": 11,
   "metadata": {
    "collapsed": false
   },
   "outputs": [
    {
     "name": "stdout",
     "output_type": "stream",
     "text": [
      "Filename: VIKING/v20100209_00117_st_12_bsub_r.fits\n",
      "No.    Name         Type      Cards   Dimensions   Format\n",
      "0    PRIMARY     PrimaryHDU      46   (2242, 2237)   float32   \n"
     ]
    }
   ],
   "source": [
    "#image_file='1612552p_15C.sub.fits'\n",
    "#image_file='teststar.fits'\n",
    "image_file='VIKING/v20100209_00117_st_12_bsub_r.fits'\n",
    "hdudata = fits.open(image_file)\n",
    "hdudata.info()\n",
    "datahdr=hdudata[0].header\n",
    "dataimage=hdudata[0].data"
   ]
  },
  {
   "cell_type": "markdown",
   "metadata": {},
   "source": [
    "#### Read star catalogue"
   ]
  },
  {
   "cell_type": "code",
   "execution_count": 12,
   "metadata": {
    "collapsed": false
   },
   "outputs": [],
   "source": [
    "#stars_file='1612552p_15C.sub_shifts.log'\n",
    "#stars_file='teststar.log'\n",
    "stars_file='VIKING/v20100209_00117_st_12_bsub_r_star_cat_GAaP.asc'\n",
    "#catstars=np.loadtxt(stars_file,usecols=[2,3,6])  #  this is for CFHT and .log test\n",
    "catstars=np.loadtxt(stars_file,usecols=[0,1,2])  #  this is for VIKING test\n",
    "catstars=catstars[np.where(catstars[:,2] !=0),:][0]  # this removes stars with lensfit weight=0\n",
    "catstars[:,0:2]=catstars[:,0:2]-0.5  # adjust for half integer shift in stars position\n",
    "catstars=utils.selectstars(dataimage,catstars)  # this filters out stars from user-defined criteria"
   ]
  },
  {
   "cell_type": "markdown",
   "metadata": {},
   "source": [
    "#### Cleaning the star catalogue"
   ]
  },
  {
   "cell_type": "code",
   "execution_count": 13,
   "metadata": {
    "collapsed": false
   },
   "outputs": [],
   "source": [
    "ncoeff=10\n",
    "rgbeta=1.62\n",
    "#BB=hermite.Bfunc(ncoeff,rgbeta)\n",
    "#LL=fitstars.chip(dataimage,catstars,BB)\n",
    "#nstars=len(LL)\n",
    "#toto=utils.cleanstars(ncoeff,catstars,LL,sigmaval=3)\n",
    "#np.where(toto)[0],np.invert(toto)\n",
    "#np.savetxt('accepted.reg',catstars[np.where(np.invert(toto))])\n",
    "#np.where(np.invert(toto))"
   ]
  },
  {
   "cell_type": "markdown",
   "metadata": {},
   "source": [
    "#### Read weight image (optional)"
   ]
  },
  {
   "cell_type": "code",
   "execution_count": 5,
   "metadata": {
    "collapsed": false
   },
   "outputs": [],
   "source": [
    "#weight_file='1612552p_15C.weight.fits'\n",
    "#weight_file='v20100210_00246_st_1_bsub_r.weight.fits'\n",
    "#hdulist = fits.open(weight_file)\n",
    "#hdulist.info()\n",
    "#weighthdr=hdulist[0].header\n",
    "#weightimage=hdulist[0].data\n",
    "#weightimage[np.where(weightimage != 0)]=1\n",
    "#dataimage[np.where(weightimage == 0)]=0"
   ]
  },
  {
   "cell_type": "markdown",
   "metadata": {},
   "source": [
    "# Find rgbeta"
   ]
  },
  {
   "cell_type": "code",
   "execution_count": 6,
   "metadata": {
    "collapsed": false
   },
   "outputs": [],
   "source": [
    "#ncoeff=10\n",
    "#rgbeta=1.62\n",
    "#BB=hermite.Bfunc(ncoeff,rgbeta)\n",
    "#LL=fitstars.chip(dataimage,catstars,BB)\n",
    "#%matplotlib inline\n",
    "#istar=44\n",
    "#galrecon=hermite.recon(LL[istar][1],BB)\n",
    "#plt.imshow(galrecon-LL[istar][0],interpolation=\"None\")\n",
    "#plt.colorbar()\n",
    "#sum(map(sum,(galrecon-LL[istar][0])**2))\n",
    "#indexes=np.random.choice(np.arange(len(catstars)),30)\n",
    "#hermite.findrgbeta(rgbeta,ncoeff,dataimage,catstars,indexes)\n",
    "#fmin(hermite.findrgbeta,2.0,(ncoeff,dataimage,catstars,indexes))"
   ]
  },
  {
   "cell_type": "markdown",
   "metadata": {},
   "source": [
    "## Shapelets formalism\n",
    "\n",
    "### 1- Definition of the basis functions $B_{nm}$\n",
    "\n",
    "Take ${\\bf r}=(x,y)$, the PSF profile $f({\\bf r})$ is given by:\n",
    "\n",
    "$$\n",
    "f({\\bf r})=\\sum_{n=0}^{\\rm ncoeff} \\sum_{m=0}^{\\rm ncoeff} f_{nm} B_n(x;\\beta) B_m(y;\\beta)\n",
    "$$\n",
    "\n",
    "note that there is <code>ncoeff+1</code> coefficients per dimension <code>(0,1,...,ncoeff)</code>. $f_{nm}$ are the shapelet coefficients of profile $f({\\bf r})$. $B_n(x;\\beta)$ is the one-dimensional Cartesian basis function:\n",
    "\n",
    "$$\n",
    "B_n(x;\\beta)=\\left[2^n \\pi^{1\\over 2} n!\\beta\\right]^{-{1\\over 2}} H_n\\left({x\\over \\beta}\\right)e^{-{x^2\\over 2\\beta^2}}\n",
    "$$\n",
    "\n",
    "where $H_n(x)$ is the physicist Hermite polynomial of order $n$. The parameter $\\beta$ is a characteristic scale.\n",
    "\n",
    "<code>hermite.Bfunc()</code> returns a tuple <code>BB=xx,Bbasis</code>\n",
    "\n",
    ">        return xx,Bbasis\n",
    "\n",
    "where <code>BB[0]= xx</code> is the two dimensional $\\bf r$ template  of size $\\rm (nx,ny)$ and\n",
    "\n",
    "$$\n",
    "{\\rm BB[1]}={\\rm Bbasis}=B_n(x;\\beta) B_m(y;\\beta)\n",
    "$$\n",
    "\n",
    "has size <code>(ncoeff+1,ncoeff+1,nx,ny)</code>. nx, ny and $\\beta$ are defined in <code>Bfunc</code>.\n",
    "\n",
    "\n"
   ]
  },
  {
   "cell_type": "code",
   "execution_count": 14,
   "metadata": {
    "collapsed": false
   },
   "outputs": [],
   "source": [
    "ncoeff=10"
   ]
  },
  {
   "cell_type": "code",
   "execution_count": 15,
   "metadata": {
    "collapsed": false
   },
   "outputs": [],
   "source": [
    "%matplotlib inline\n",
    "rgbeta=1.62\n",
    "BB=hermite.Bfunc(ncoeff,rgbeta)"
   ]
  },
  {
   "cell_type": "markdown",
   "metadata": {},
   "source": [
    "### 2- Definition of the convolution tensor $C_{\\bf nml}$\n",
    "\n",
    "Consider a star profile $f({\\bf r})$, and convolution kernel $g({\\bf r})$ and a resulting convolved profile $h({\\bf r})$, the observed image is given by the convolution:\n",
    "\n",
    "$$\n",
    "h({\\bf r})=(f\\star g)=\\int d{\\bf r'} f({\\bf r-r'})g({\\bf r'})\n",
    "$$\n",
    "\n",
    "Let's call ${\\bf n}=(n_1,n_2)$, the two-dimensional set of shapelet coefficient indices. Same definition for $\\bf m$ and $\\bf l$. The shapelet coefficients of $f({\\bf r})$ can be written $f_{n_1 n_2}$ or $f_{\\bf n}$ alternatively. The shapelet coefficients of the star profile, kernel and convolved profile are related by:\n",
    "\n",
    "$$\n",
    "h_{\\bf n}=h_{n_1n_2}=\\sum_{\\bf m,l} C_{\\bf nml}f_{\\bf m}g_{\\bf l}\n",
    "$$\n",
    "\n",
    "where $C_{\\bf nml}(\\gamma,\\alpha,\\beta)$ is the two-dimensional convolution tensor, which can be written in terms of one-dimensional convolution tensors:\n",
    "\n",
    "$$\n",
    "C_{\\bf nml}(\\gamma,\\alpha,\\beta)=C_{n_1 m_1 l_1}(\\gamma,\\alpha,\\beta)~C_{n_2 m_2 l_2}(\\gamma,\\alpha,\\beta)\n",
    "$$\n",
    "\n",
    "The experssion of the one-dimensional $C_{nml}$ is given by:\n",
    "\n",
    "$$\n",
    "C_{nml}(\\gamma,\\alpha,\\beta)=\\left(2\\pi\\right)^{1\\over 2}(-1)^n~i^{n+m+l}B^{(3)}_{nml}(\\gamma^{-1},\\alpha^{-1},\\beta^{-1})\n",
    "$$\n",
    "\n",
    "where $B^{(3)}_{nml}(a,b,c)$ is given by:\n",
    "\n",
    "$$\n",
    "B^{(3)}_{nml}(a,b,c)=\\nu \\left[2^{n+m+l-1}\\pi^{1\\over 2} n!~m!~l!~a~b~c\\right]^{-{1\\over 2}}L_{nml}\\left(A,B,C\\right)\n",
    "$$\n",
    "\n",
    "with the following definitions:\n",
    "\n",
    "\\begin{eqnarray}\n",
    "\\nu^{-2}=a^{-2}+b^{-2}+c^{-2}\\\\\n",
    "A=\\sqrt{2}~\\nu/a \\ ; \\ \\ B=\\sqrt{2}~\\nu/b \\ ; \\ \\ C=\\sqrt{2}~\\nu/c\n",
    "\\end{eqnarray}\n",
    "\n",
    "and the -one-dimensional- $L_{nml}\\left(A,B,C\\right)$ are given by:\n",
    "\n",
    "$$\n",
    "L_{nml}\\left(A,B,C\\right)={1\\over \\sqrt{\\pi}}\\int_{-\\infty}^\\infty {\\rm d}x~e^{-x^2}~H_n(Ax)~H_m(Bx)~H_l(Cx)\n",
    "$$\n",
    "\n",
    "There are recursion relations allowing to calculate all the $L_{nml}\\left(A,B,C\\right)$.\n",
    "\n",
    "The routine <code>hermite.Cmatrix(ncoeff,g,a,b)</code> calculates the convolution matrix in one-dimension $C_{nml}(\\gamma,\\alpha,\\beta)$ with <code>g</code>=$\\gamma$, <code>a</code>=$\\alpha$, <code>b</code>=$\\beta$. <font color='red'>Note that b and $\\beta$ should be the same, TBF later</font>. <code> Cmat</code> has size <code>(ncoeff+1.ncoeff+1,ncoeff+1)</code>"
   ]
  },
  {
   "cell_type": "code",
   "execution_count": 16,
   "metadata": {
    "collapsed": false
   },
   "outputs": [],
   "source": [
    "g,a,b=rgbeta,rgbeta,rgbeta\n",
    "Cmat=hermite.Cmatrix(ncoeff,g,a,b)"
   ]
  },
  {
   "cell_type": "markdown",
   "metadata": {},
   "source": [
    "## Shapelet analysis of the stars\n",
    "\n",
    "### 1- Shapelet decomposition of individual stars\n",
    "\n",
    "For each star in the list, the method <code>fitstars.chip(image_file,stars_file,BB)</code> returns a list <code>LL</code> which contains the elements\n",
    "\n",
    "<code>LL=[(data for star 1), (data for star 2), ...., (data for star n)]</code>\n",
    "\n",
    "where <code>LL[i]=(data for star i)</code> corresponds to the i-th star. <code>LL[i]</code> is a tuple containing four sub-elements **which are all numpy arrays**.\n",
    "<code>LL[i][j]</code> is the j-th sub-element of the i-th star:\n",
    "\n",
    "<code>LL[i]=(scidata,CC,[x,y],weight)</code>\n",
    "\n",
    "where\n",
    "\n",
    "<code>LL[i][0]=scidata</code> is the star profile $f({\\bf r})$ centered on star i, its size is $\\rm (nx,ny)$. Its size is <code>(ncoeff+1,ncoeff+1)</code>.\n",
    "\n",
    "<code>LL[i][1]=CC</code> contains the shapelet coefficients of the star i. Its size is <code>(ncoeff+1,ncoeff+1)</code>.\n",
    "\n",
    "<code>LL[i][2]=[x,y]</code> contains the star position [x,y] on the image in pixel units.\n",
    "\n",
    "<code>LL[i][3]=weight</code> contains the lensfit weight of the star.\n",
    "\n",
    "The method <code>fitstars.chip</code> uses <code>hermite.getcoeff(f,BB)</code> to get the shapelet coefficients, where $f({\\bf r})$ is the star profile and <code>BB</code> has been calculated above. <code> len(LL)</code> is the number of stars used in the fit.\n",
    "\n",
    "\n",
    "\n"
   ]
  },
  {
   "cell_type": "code",
   "execution_count": 17,
   "metadata": {
    "collapsed": false
   },
   "outputs": [],
   "source": [
    "#  now decompose each star on the BB basis function to get coefficients CC[ncoeff,ncoeff]\n",
    "LL=fitstars.chip(dataimage,catstars,BB)  ##  returns list with [scidata,CC,[x,y],weight] for each valid stars at [x,y]"
   ]
  },
  {
   "cell_type": "markdown",
   "metadata": {},
   "source": [
    "### 2- Polynomial fit of the stars shapelet coefficients\n",
    "\n",
    "Each image has <code>nstars=len(LL)</code> stars with their shapelet coefficients all measured and stored in an array of size <code>(ncoeff+1,ncoeff+1)</code> named <code>LL[i][1]</code> for star <code>i</code>. We now want to estimate how each shapelet coefficient $f_{l_1l_2}(x,y)$ varies across the image as function of position $(x,y)$. We assume that the position variation is described by a 2-dimensional polynomial:\n",
    "\n",
    "$$\n",
    "f_{l_1l_2}(x,y)=\\sum_{r,s}{\\cal C}_{rs}~x^r~y^s\n",
    "$$\n",
    "\n",
    "where ${\\cal C}_{rs}$ are the, constant, polynomial coefficients. For a second order 2-dimensional polynomial, there are 6 polynomial coefficients. The method <code>fitstars.fittedcoeff(ncoeff,LL)</code> returns the fitted polynomial coefficients, given a known shapelet decomposition <code>LL</code> of all stars. <font color='red'> At this time, the polynomial order and coefficients are set in <code>fitstars.fittedcoeff()</code></font>. \n",
    "\n",
    "The method <code>fitstars.fittedcoeff(ncoeff,LL)</code> returns the following tuple of four numpy arrays elements:\n",
    "\n",
    "<code>oo=(oo[0],oo[1],oo[2],oo[3])</code>\n",
    "\n",
    "with <code>len(oo[i])=nstars</code> in the number of stars. Each element of the tuple contains the following quantities:\n",
    "\n",
    "<code>oo[0]</code> is a numpy array $x=[x_0,x_1,....x_N]$ of x-positions of all stars.\n",
    "\n",
    "<code>oo[1]</code> is a numpy array $y=[y_0,y_1,....y_N]$ of y-positions of all stars.\n",
    "\n",
    "<code>oo[2]</code> is a numpy array of size <code>(ncoeff+1,ncoeff+1,nstars)</code> containing the input shapelet coefficients of each star.\n",
    "\n",
    "<code>oo[3]</code> is a numpy array of size <code>(ncoeff+1,ncoeff+1,npoly)</code> contains the polynomial coefficients fitting each shapelet coefficient's variation across the image $(x,y)$. e.g. <code>oo[3][i,j,:]</code> contains the polynomial coefficients of shapelet coefficient <code>(i,j)</code>.\n",
    "\n",
    "The method <code>fitstars.getcoeff</code> replaces the stars <code>i</code> shapelet coefficients <code>LL[i][1]</code> by their fitted version into <code>LLfit</code>. Everything else in <code>LLfit</code> is the same as in <code>LL</code>"
   ]
  },
  {
   "cell_type": "code",
   "execution_count": 18,
   "metadata": {
    "collapsed": false
   },
   "outputs": [],
   "source": [
    "oo=fitstars.fittedcoeff(ncoeff,LL)"
   ]
  },
  {
   "cell_type": "code",
   "execution_count": 19,
   "metadata": {
    "collapsed": false
   },
   "outputs": [],
   "source": [
    "LLfit=fitstars.getcoeff(ncoeff,LL,oo)"
   ]
  },
  {
   "cell_type": "code",
   "execution_count": 20,
   "metadata": {
    "collapsed": false
   },
   "outputs": [],
   "source": [
    "x = np.arange(0,2200,20)\n",
    "y = np.arange(0,4400,20)\n",
    "xx,yy=np.meshgrid(x,y)\n",
    "zz=fitstars.fittedfunc(xx,yy,oo[3][7,7,:])"
   ]
  },
  {
   "cell_type": "code",
   "execution_count": 14,
   "metadata": {
    "collapsed": false
   },
   "outputs": [],
   "source": [
    "#%matplotlib notebook\n",
    "#fig = plt.figure()\n",
    "#ax = fig.add_subplot(111, projection='3d')\n",
    "#ax.scatter(oo[0],oo[1],oo[2][7,7], c='r', marker='o')\n",
    "#ax.plot_wireframe(xx,yy,zz, rstride=10, cstride=10)"
   ]
  },
  {
   "cell_type": "code",
   "execution_count": 15,
   "metadata": {
    "collapsed": false
   },
   "outputs": [
    {
     "data": {
      "image/png": "[encoded data removed]",
      "text/plain": [
       "<matplotlib.figure.Figure at 0x2b26028c61d0>"
      ]
     },
     "metadata": {},
     "output_type": "display_data"
    }
   ],
   "source": [
    "%matplotlib inline\n",
    "plt.imshow(LL[9][0],interpolation=\"None\")\n",
    "plt.colorbar()\n",
    "plt.savefig('initialstar.png')"
   ]
  },
  {
   "cell_type": "code",
   "execution_count": 16,
   "metadata": {
    "collapsed": false
   },
   "outputs": [
    {
     "data": {
      "text/plain": [
       "<matplotlib.colorbar.Colorbar at 0x2b2613f25c18>"
      ]
     },
     "execution_count": 16,
     "metadata": {},
     "output_type": "execute_result"
    },
    {
     "data": {
      "image/png": "[encoded data removed]",
      "text/plain": [
       "<matplotlib.figure.Figure at 0x2b2613b799e8>"
      ]
     },
     "metadata": {},
     "output_type": "display_data"
    }
   ],
   "source": [
    "%matplotlib inline\n",
    "galrecon=hermite.recon(LL[10][1],BB)\n",
    "plt.imshow(galrecon-LL[10][0],interpolation=\"None\")\n",
    "plt.colorbar()"
   ]
  },
  {
   "cell_type": "markdown",
   "metadata": {},
   "source": [
    "### 3- PSF homegeneization process\n",
    "\n",
    "From Section 2, we want to calculate the kernel shapelet coefficients $k_{m_1m_2}$ such that the resulting stellar profile $h({\\bf r})$\n",
    "\n",
    "$$\n",
    "h({\\bf r})=(f\\star k)=\\int d{\\bf r'} f({\\bf r-r'})k({\\bf r'})\n",
    "$$\n",
    "\n",
    "is the target Gaussian profile:\n",
    "\n",
    "$$\n",
    "h({\\bf r})=e^{-{{\\bf r}^2\\over 2\\beta^2}}\n",
    "$$\n",
    "\n",
    "For each star, the method <code>Gkernel.map(ncoeff,LL,Cmat)</code> calculates the reconvolution kernel coefficients $k_{m_1m_2}$ and the matrix $P_{n_1n_2m_1m_2}$ defined as:\n",
    "\n",
    "$$\n",
    "P_{n_1n_2m_1m_2}=\\sum_{l_1,l_2} C_{n_1m_1l_1} ~C_{n_2m_2l_2}~f_{l_1l_2}\n",
    "$$\n",
    "\n",
    "where $f_{l_1l_2}$ are the star shapelet coefficients. The resulting target PSF $h({\\bf r})$ shapelet coefficients $h_{n_1n_2}$ are then given by\n",
    "\n",
    "$$\n",
    "h_{n_1n_2}=\\sum_{m_1,m_2} P_{n_1n_2m_1m_2}~k_{m_1 m_2}\n",
    "$$\n",
    "\n",
    "The arguments of <code>Gkernel.map(ncoeff,LL,Cmat)</code> are <code>ncoeff</code>, <code>LL=fitstars.chip()</code> and <code>Cmat=hermite.Cmatrix()</code>. It returns a list <code>KK</code> which contains the elements:\n",
    "\n",
    "<code> KK=[(data for star 1),(data for star 2),...(data for star n)]</code>\n",
    "\n",
    "where <code>KK[i]</code> contains two elements which are **numpy arrays** each:\n",
    "\n",
    "<code>KK[i][0]=</code>$k_{m_1m_2}$ is the gaussianization kernel shapelet coefficients of the star i. Its size is <code>(ncoeff+1,ncoeff+1)</code>.\n",
    "\n",
    "<code>KK[i][1]=</code>$P_{n_1n_2m_1m_2}$ is the matrix $P$ for star i as defined above. Its size is <code>(ncoeff+1,ncoeff+1,ncoeff+1,ncoeff+1)</code>.\n",
    "\n",
    "The mathod <code>Gkernel.getKlist(ncoeff,LL,KK)</code> returns <code>LL</code> where the shapelet coefficients <code>LL[i][1]</code> has been replaced with the gaussianisation kernel coefficients <code>KK[i][0]</code>."
   ]
  },
  {
   "cell_type": "code",
   "execution_count": 17,
   "metadata": {
    "collapsed": false
   },
   "outputs": [],
   "source": [
    "KK=Gkernel.map(ncoeff,LLfit,Cmat)\n",
    "LK=Gkernel.getKlist(ncoeff,LL,KK)"
   ]
  },
  {
   "cell_type": "code",
   "execution_count": 18,
   "metadata": {
    "collapsed": false,
    "scrolled": true
   },
   "outputs": [
    {
     "data": {
      "image/png": "[encoded data removed]",
      "text/plain": [
       "<matplotlib.figure.Figure at 0x2b2613f04b70>"
      ]
     },
     "metadata": {},
     "output_type": "display_data"
    }
   ],
   "source": [
    "%matplotlib inline\n",
    "ker=KK[10][0]\n",
    "ker.shape\n",
    "kerrecon=hermite.recon(ker,BB)\n",
    "plt.imshow(kerrecon,interpolation=\"None\")\n",
    "plt.colorbar()\n",
    "outfile='kernel.fits'\n",
    "hdu = fits.PrimaryHDU(kerrecon)\n",
    "hdu.writeto(outfile, clobber=True)\n",
    "plt.savefig('kernel.png')"
   ]
  },
  {
   "cell_type": "code",
   "execution_count": 19,
   "metadata": {
    "collapsed": false
   },
   "outputs": [
    {
     "data": {
      "image/png": "[encoded data removed]",
      "text/plain": [
       "<matplotlib.figure.Figure at 0x2b2613f2e5f8>"
      ]
     },
     "metadata": {},
     "output_type": "display_data"
    }
   ],
   "source": [
    "%matplotlib inline\n",
    "Pmat=KK[10][1]\n",
    "hnew=Gkernel.convol(ncoeff,Pmat,ker)\n",
    "hrecon=hermite.recon(hnew,BB)\n",
    "plt.imshow(hrecon,interpolation=\"None\")\n",
    "plt.colorbar()\n",
    "plt.savefig('regauss.png')"
   ]
  },
  {
   "cell_type": "code",
   "execution_count": 20,
   "metadata": {
    "collapsed": false
   },
   "outputs": [],
   "source": [
    "#%matplotlib inline\n",
    "#rad_profile = utils.radial_profile(hrecon, (8,8))\n",
    "#in_profile = utils.radial_profile(LL[0][0], (8,8))\n",
    "#plt.plot(rad_profile, 'x-')\n",
    "#plt.plot(in_profile, 'x-')\n",
    "#plt.show()"
   ]
  },
  {
   "cell_type": "markdown",
   "metadata": {},
   "source": [
    "### 3- Polynomial fit of the kernel shapelet coefficients\n",
    "\n",
    "<code>ooK[3][i,j,k]</code> contains the <code>t-th</code> polynomial coefficient of the <code>(i,j)</code> shapelet coefficient."
   ]
  },
  {
   "cell_type": "code",
   "execution_count": 21,
   "metadata": {
    "collapsed": false
   },
   "outputs": [],
   "source": [
    "ooK=fitstars.fittedcoeff(ncoeff,LK)"
   ]
  },
  {
   "cell_type": "markdown",
   "metadata": {},
   "source": [
    "## Reconvolving the image\n",
    "\n",
    "$$\n",
    "I_{out}(i,j)={\\rm Conv}\\left[K(x,y;i,j),I_{in}(k,l)\\right]\n",
    "$$\n",
    "\n",
    "$$\n",
    "I_{out}(i,j)=\\sum_{m,n}~i^mj^n \\left[\\sum_{a,b} ~k_{a,b;m,n} ~S_{a,b}(x,y)\\right]\\star I_{in}(x,y)\n",
    "$$\n",
    "\n",
    "where we define $T_{mn}(x,y)$ as:\n",
    "\n",
    "$$\n",
    "T_{mn}(x,y)=\\left[\\sum_{a,b} ~k_{a,b;m,n} ~S_{a,b}(x,y)\\right]\n",
    "$$\n",
    "\n",
    "$k_{a,b;m,n}$ is the kernel shapelet coefficient $(a,b)$ corresponding to the -across the image- polynomial fit coefficients $(m,n)$. Note that the meaning of $(x,y)$ above specify the pixels located around the target position $(i,j)$, NOT the position on the image. Formally, $(m,n)$ can be treated as a single index $q$ so we have in that case:\n",
    "\n",
    "$$\n",
    "T_q(x,y)=\\left[\\sum_{a,b} ~k_{a,b;q} ~S_{a,b}(x,y)\\right]\n",
    "$$\n",
    "\n",
    "and it becomes clear that $k_{a,b;q}$ is the same as <code>ooK[3][a,b,q]</code>."
   ]
  },
  {
   "cell_type": "code",
   "execution_count": 22,
   "metadata": {
    "collapsed": false
   },
   "outputs": [],
   "source": [
    "Tmat=Gkernel.Tmatrix(ncoeff,ooK,BB)"
   ]
  },
  {
   "cell_type": "code",
   "execution_count": 23,
   "metadata": {
    "collapsed": false
   },
   "outputs": [
    {
     "name": "stdout",
     "output_type": "stream",
     "text": [
      "Computing weights....\n"
     ]
    }
   ],
   "source": [
    "out=Gkernel.gaussianize(ncoeff,Tmat,dataimage,datahdr)\n",
    "#out=Gkernel.gaussianize(ncoeff,Tmat,dataimage,datahdr,weight=weightimage)\n",
    "#plt.imshow(out[1],interpolation='none')\n",
    "#plt.gca().invert_yaxis()\n",
    "#plt.colorbar()"
   ]
  },
  {
   "cell_type": "code",
   "execution_count": 24,
   "metadata": {
    "collapsed": false
   },
   "outputs": [],
   "source": [
    "outfile='teststar_gauss.fits'\n",
    "hdu = fits.PrimaryHDU(out[1])\n",
    "hdu.header=datahdr\n",
    "hdu.writeto(outfile, clobber=True)"
   ]
  },
  {
   "cell_type": "code",
   "execution_count": null,
   "metadata": {
    "collapsed": true
   },
   "outputs": [],
   "source": []
  },
  {
   "cell_type": "code",
   "execution_count": null,
   "metadata": {
    "collapsed": true
   },
   "outputs": [],
   "source": []
  },
  {
   "cell_type": "code",
   "execution_count": null,
   "metadata": {
    "collapsed": true
   },
   "outputs": [],
   "source": []
  }
 ],
 "metadata": {
  "anaconda-cloud": {},
  "kernelspec": {
   "display_name": "Python [default]",
   "language": "python",
   "name": "python3"
  },
  "language_info": {
   "codemirror_mode": {
    "name": "ipython",
    "version": 3
   },
   "file_extension": ".py",
   "mimetype": "text/x-python",
   "name": "python",
   "nbconvert_exporter": "python",
   "pygments_lexer": "ipython3",
   "version": "3.5.2"
  }
 },
 "nbformat": 4,
 "nbformat_minor": 1
}
